{
 "cells": [
  {
   "cell_type": "markdown",
   "metadata": {},
   "source": [
    "### Get number of followers for list of specified users\n",
    "- Data: 20200601\n",
    "- Author: Gunho Ko"
   ]
  },
  {
   "cell_type": "code",
   "execution_count": 39,
   "metadata": {},
   "outputs": [
    {
     "name": "stdout",
     "output_type": "stream",
     "text": [
      "cristiano : 221786785\n",
      "dreandes : user not verified\n",
      "leomessi : 153260710\n"
     ]
    }
   ],
   "source": [
    "import requests\n",
    "import re\n",
    "\n",
    "userList = ['cristiano', 'dreandes', 'leomessi']\n",
    "\n",
    "\n",
    "def checkInstaFollowers(user):\n",
    "    url = 'https://www.instagram.com/' + user\n",
    "    r = requests.get(url).text\n",
    "    followers = re.search('\"edge_followed_by\":{\"count\":([0-9]+)}',r).group(1)\n",
    "    \n",
    "    if (r.find('\"is_verified\":true')!=-1):\n",
    "        print('{} : {}'.format(user, followers))\n",
    "    else:\n",
    "        print('{} : user not verified'.format(user))\n",
    "\n",
    "for a in userList:\n",
    "    checkInstaFollowers(a)"
   ]
  }
 ],
 "metadata": {
  "kernelspec": {
   "display_name": "Python 3",
   "language": "python",
   "name": "python3"
  },
  "language_info": {
   "codemirror_mode": {
    "name": "ipython",
    "version": 3
   },
   "file_extension": ".py",
   "mimetype": "text/x-python",
   "name": "python",
   "nbconvert_exporter": "python",
   "pygments_lexer": "ipython3",
   "version": "3.7.6"
  }
 },
 "nbformat": 4,
 "nbformat_minor": 4
}
