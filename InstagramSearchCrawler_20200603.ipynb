{
 "cells": [
  {
   "cell_type": "code",
   "execution_count": 25,
   "metadata": {},
   "outputs": [
    {
     "name": "stdout",
     "output_type": "stream",
     "text": [
      "https://www.instagram.com/chriseriksen8/\n"
     ]
    }
   ],
   "source": [
    "from selenium import webdriver\n",
    "from bs4 import BeautifulSoup\n",
    "\n",
    "user = 'chris eriksen'\n",
    "\n",
    "driver = webdriver.Chrome(r'C:\\Users\\Gk\\Desktop\\DSS\\install\\chromedriver_win32\\chromedriver.exe')\n",
    "driver.get('https://www.instagram.com/instagram')\n",
    "delay = 3\n",
    "driver.implicitly_wait(delay)\n",
    "\n",
    "driver.find_element_by_xpath('//*[@id=\"react-root\"]/section/nav/div[2]/div/div/div[2]/input').send_keys(user)\n",
    "#driver.find_element_by_class_name(\"XTCLo x3qfX\").send_keys('cristiano ronaldo')\n",
    "driver.find_element_by_xpath('//*[@id=\"react-root\"]/section/nav/div[2]/div/div/div[2]/div[2]/div[2]/div/a[1]/div').click()\n",
    "print(driver.current_url)"
   ]
  },
  {
   "cell_type": "code",
   "execution_count": 37,
   "metadata": {},
   "outputs": [
    {
     "name": "stdout",
     "output_type": "stream",
     "text": [
      "chris eriksen : 2042554\n",
      "cristiano ronaldo : 221965262\n",
      "Gunho Ko : user not verified\n"
     ]
    }
   ],
   "source": [
    "from selenium import webdriver\n",
    "from bs4 import BeautifulSoup\n",
    "import requests\n",
    "import re\n",
    "\n",
    "userList = ['chris eriksen', 'cristiano ronaldo', 'Gunho Ko']\n",
    "#userList = ['chris eriksen', 'cristiano ronaldo', 'leomessi']\n",
    "\n",
    "driver = webdriver.Chrome(r'C:\\Users\\Gk\\Desktop\\DSS\\install\\chromedriver_win32\\chromedriver.exe')\n",
    "driver.get('https://www.instagram.com/instagram')\n",
    "delay = 3\n",
    "driver.implicitly_wait(delay)\n",
    "\n",
    "\n",
    "def checkInstaFollowers(user):\n",
    "    driver.find_element_by_xpath('//*[@id=\"react-root\"]/section/nav/div[2]/div/div/div[2]/input').send_keys(user)\n",
    "    driver.implicitly_wait(delay)\n",
    "    driver.find_element_by_xpath('//*[@id=\"react-root\"]/section/nav/div[2]/div/div/div[2]/div[2]/div[2]/div/a[1]/div').click()\n",
    "\n",
    "    r = requests.get(driver.current_url).text\n",
    "    followers = re.search('\"edge_followed_by\":{\"count\":([0-9]+)}',r).group(1)\n",
    "    \n",
    "    if (r.find('\"is_verified\":true')!=-1):\n",
    "        print('{} : {}'.format(user, followers))\n",
    "    else:\n",
    "        print('{} : user not verified'.format(user))\n",
    "\n",
    "for a in userList:\n",
    "    checkInstaFollowers(a)"
   ]
  },
  {
   "cell_type": "code",
   "execution_count": null,
   "metadata": {},
   "outputs": [],
   "source": []
  },
  {
   "cell_type": "code",
   "execution_count": null,
   "metadata": {},
   "outputs": [],
   "source": []
  },
  {
   "cell_type": "code",
   "execution_count": null,
   "metadata": {},
   "outputs": [],
   "source": []
  },
  {
   "cell_type": "code",
   "execution_count": null,
   "metadata": {},
   "outputs": [],
   "source": []
  },
  {
   "cell_type": "code",
   "execution_count": null,
   "metadata": {},
   "outputs": [],
   "source": []
  },
  {
   "cell_type": "code",
   "execution_count": null,
   "metadata": {},
   "outputs": [],
   "source": []
  }
 ],
 "metadata": {
  "kernelspec": {
   "display_name": "Python 3",
   "language": "python",
   "name": "python3"
  },
  "language_info": {
   "codemirror_mode": {
    "name": "ipython",
    "version": 3
   },
   "file_extension": ".py",
   "mimetype": "text/x-python",
   "name": "python",
   "nbconvert_exporter": "python",
   "pygments_lexer": "ipython3",
   "version": "3.7.6"
  }
 },
 "nbformat": 4,
 "nbformat_minor": 4
}
